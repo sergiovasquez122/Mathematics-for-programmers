{
 "cells": [
  {
   "cell_type": "code",
   "execution_count": 3,
   "metadata": {},
   "outputs": [],
   "source": [
    "from math import sin\n",
    "\n",
    "def f(x):\n",
    "    return (3 * x ** 2 + x) * sin(x)"
   ]
  },
  {
   "cell_type": "code",
   "execution_count": 4,
   "metadata": {
    "collapsed": true
   },
   "outputs": [],
   "source": [
    "import inspect \n",
    "def contains_sin(f):\n",
    "    source = inspect.getsource(f)\n",
    "    return 'sin' in source"
   ]
  },
  {
   "cell_type": "code",
   "execution_count": 5,
   "metadata": {},
   "outputs": [
    {
     "data": {
      "text/plain": [
       "True"
      ]
     },
     "execution_count": 5,
     "metadata": {},
     "output_type": "execute_result"
    }
   ],
   "source": [
    "contains_sin(f)"
   ]
  },
  {
   "cell_type": "code",
   "execution_count": 6,
   "metadata": {
    "collapsed": true
   },
   "outputs": [],
   "source": [
    "def q(x):\n",
    "    return 3 * x + 5"
   ]
  },
  {
   "cell_type": "code",
   "execution_count": 7,
   "metadata": {},
   "outputs": [
    {
     "data": {
      "text/plain": [
       "False"
      ]
     },
     "execution_count": 7,
     "metadata": {},
     "output_type": "execute_result"
    }
   ],
   "source": [
    "contains_sin(q)"
   ]
  },
  {
   "cell_type": "code",
   "execution_count": 11,
   "metadata": {},
   "outputs": [],
   "source": [
    "class Power():\n",
    "    def __init__(self, base, exponent):\n",
    "        self.base = base\n",
    "        self.exponent = exponent\n",
    "        \n",
    "class Number():\n",
    "    def __init__(self, number):\n",
    "        self.number = number\n",
    "\n",
    "class Variable():\n",
    "    def __init__(self, symbol):\n",
    "        self.symbol = symbol\n",
    "\n",
    "class Product():\n",
    "    def __init__(self, exp1, exp2):\n",
    "        self.exp1 = exp1\n",
    "        self.exp2 = exp2\n",
    "        \n",
    "class Sum():\n",
    "    def __init__(self, *exps):\n",
    "        self.exps = exps\n",
    "        \n",
    "class Function():\n",
    "    def __init__(self, name):\n",
    "        self.name = name\n",
    "        \n",
    "class Apply():\n",
    "    def __init__(self, function, argument):\n",
    "        self.function = function\n",
    "        self.argument = argument\n",
    "\n"
   ]
  },
  {
   "cell_type": "code",
   "execution_count": 12,
   "metadata": {
    "collapsed": true
   },
   "outputs": [],
   "source": [
    "f_expression = Product(\n",
    "Sum(\n",
    "Product(\n",
    "Number(3),\n",
    "Power(\n",
    "Variable(\"x\"),\n",
    "Number(2))),\n",
    "Variable(\"x\")),\n",
    "Apply(\n",
    "Function(\"sin\"),\n",
    "Variable(\"x\")))"
   ]
  },
  {
   "cell_type": "code",
   "execution_count": 15,
   "metadata": {},
   "outputs": [
    {
     "data": {
      "text/plain": [
       "<__main__.Apply at 0x7f92bc272828>"
      ]
     },
     "execution_count": 15,
     "metadata": {},
     "output_type": "execute_result"
    }
   ],
   "source": [
    "Apply(Function('cos'), Sum(Power(Variable('x'), Number(3)), Number(-5)))"
   ]
  },
  {
   "cell_type": "code",
   "execution_count": 16,
   "metadata": {},
   "outputs": [
    {
     "data": {
      "text/plain": [
       "<__main__.Apply at 0x7f92bc369f28>"
      ]
     },
     "execution_count": 16,
     "metadata": {},
     "output_type": "execute_result"
    }
   ],
   "source": [
    "Apply(Function('ln'), Power(Variable('y'), Variable('z')))"
   ]
  },
  {
   "cell_type": "code",
   "execution_count": 17,
   "metadata": {
    "collapsed": true
   },
   "outputs": [],
   "source": [
    "from math import log\n",
    "def f(y, z):\n",
    "    return log(y ** z)"
   ]
  },
  {
   "cell_type": "code",
   "execution_count": 18,
   "metadata": {},
   "outputs": [
    {
     "data": {
      "text/plain": [
       "<__main__.Product at 0x7f92bc2062b0>"
      ]
     },
     "execution_count": 18,
     "metadata": {},
     "output_type": "execute_result"
    }
   ],
   "source": [
    "Product(Number(3), Sum(Variable('y'), Variable('z')))"
   ]
  },
  {
   "cell_type": "code",
   "execution_count": 20,
   "metadata": {},
   "outputs": [],
   "source": [
    "def f(y, z):\n",
    "    return 3 * (y + z)"
   ]
  },
  {
   "cell_type": "code",
   "execution_count": 24,
   "metadata": {
    "collapsed": true
   },
   "outputs": [],
   "source": [
    "class Quotient():\n",
    "    def __init__(self, numerator, denominator):\n",
    "        self.numerator = numerator\n",
    "        self.denominator = denominator"
   ]
  },
  {
   "cell_type": "code",
   "execution_count": 25,
   "metadata": {},
   "outputs": [
    {
     "data": {
      "text/plain": [
       "<__main__.Quotient at 0x7f92bc3f5400>"
      ]
     },
     "execution_count": 25,
     "metadata": {},
     "output_type": "execute_result"
    }
   ],
   "source": [
    "Quotient(Sum(Variable('a'), Variable('b')), Number(2))"
   ]
  },
  {
   "cell_type": "code",
   "execution_count": 26,
   "metadata": {
    "collapsed": true
   },
   "outputs": [],
   "source": [
    "class Difference():\n",
    "    def __init__(self, exp1, exp2):\n",
    "        self.exp1 = exp1\n",
    "        self.exp2 = exp2"
   ]
  },
  {
   "cell_type": "code",
   "execution_count": 27,
   "metadata": {},
   "outputs": [
    {
     "data": {
      "text/plain": [
       "<__main__.Difference at 0x7f92bc20a358>"
      ]
     },
     "execution_count": 27,
     "metadata": {},
     "output_type": "execute_result"
    }
   ],
   "source": [
    "Difference(Power(Variable('b'), Number(2)), Product(Number(4),Product(Variable('a'), Variable('c'))))"
   ]
  },
  {
   "cell_type": "code",
   "execution_count": 28,
   "metadata": {
    "collapsed": true
   },
   "outputs": [],
   "source": [
    "class Negative():\n",
    "    def __init__(self, exp):\n",
    "        self.exp = exp"
   ]
  },
  {
   "cell_type": "code",
   "execution_count": 29,
   "metadata": {},
   "outputs": [
    {
     "data": {
      "text/plain": [
       "<__main__.Negative at 0x7f92bc3d9940>"
      ]
     },
     "execution_count": 29,
     "metadata": {},
     "output_type": "execute_result"
    }
   ],
   "source": [
    "Negative(Sum(Power(Variable('x'), Number(2)),Variable('y')))"
   ]
  },
  {
   "cell_type": "code",
   "execution_count": 31,
   "metadata": {
    "collapsed": true
   },
   "outputs": [],
   "source": [
    "A = Variable('a')\n",
    "B = Variable('b')\n",
    "C = Variable('c')\n",
    "Sqrt = Function('sqrt')"
   ]
  },
  {
   "cell_type": "code",
   "execution_count": 35,
   "metadata": {},
   "outputs": [
    {
     "data": {
      "text/plain": [
       "<__main__.Quotient at 0x7f92bc433eb8>"
      ]
     },
     "execution_count": 35,
     "metadata": {},
     "output_type": "execute_result"
    }
   ],
   "source": [
    "Quotient(\n",
    "Sum(\n",
    "Negative(B),\n",
    "Apply(\n",
    "Sqrt,\n",
    "Difference(\n",
    "Power(B,Number(2)),\n",
    "Product(Number(4), Product(A,C))))),\n",
    "Product(Number(2), A))"
   ]
  },
  {
   "cell_type": "code",
   "execution_count": 37,
   "metadata": {},
   "outputs": [],
   "source": [
    "from expressions import *"
   ]
  },
  {
   "cell_type": "code",
   "execution_count": 38,
   "metadata": {},
   "outputs": [
    {
     "data": {
      "text/latex": [
       "$$2$$"
      ],
      "text/plain": [
       "Number(2)"
      ]
     },
     "execution_count": 38,
     "metadata": {},
     "output_type": "execute_result"
    }
   ],
   "source": [
    "Number(2)"
   ]
  },
  {
   "cell_type": "code",
   "execution_count": 40,
   "metadata": {},
   "outputs": [
    {
     "data": {
      "text/latex": [
       "$$a ^ { 2 }$$"
      ],
      "text/plain": [
       "Power(Variable(\"a\"),Number(2))"
      ]
     },
     "execution_count": 40,
     "metadata": {},
     "output_type": "execute_result"
    }
   ],
   "source": [
    "Power(Variable('a'), Number(2))"
   ]
  },
  {
   "cell_type": "code",
   "execution_count": 41,
   "metadata": {
    "collapsed": true
   },
   "outputs": [],
   "source": [
    "def f(x):\n",
    "    return (3 * x ** 2 + x) * sin(x)"
   ]
  },
  {
   "cell_type": "code",
   "execution_count": 43,
   "metadata": {},
   "outputs": [],
   "source": [
    "f_expression = Product(\n",
    "Sum(\n",
    "Product(\n",
    "Number(3),\n",
    "Power(\n",
    "Variable(\"x\"),\n",
    "Number(2))),\n",
    "Variable(\"x\")),\n",
    "Apply(\n",
    "Function(\"sin\"),\n",
    "Variable(\"x\")))"
   ]
  },
  {
   "cell_type": "code",
   "execution_count": 44,
   "metadata": {},
   "outputs": [
    {
     "data": {
      "text/latex": [
       "$$\\left( 3x ^ { 2 } + x \\right) \\operatorname{ sin } \\left( x \\right)$$"
      ],
      "text/plain": [
       "Product(Sum(Product(Number(3),Power(Variable(\"x\"),Number(2))),Variable(\"x\")),Apply(Function(\"sin\"),Variable(\"x\")))"
      ]
     },
     "execution_count": 44,
     "metadata": {},
     "output_type": "execute_result"
    }
   ],
   "source": [
    "f_expression"
   ]
  },
  {
   "cell_type": "code",
   "execution_count": 47,
   "metadata": {},
   "outputs": [
    {
     "data": {
      "text/plain": [
       "{'x'}"
      ]
     },
     "execution_count": 47,
     "metadata": {},
     "output_type": "execute_result"
    }
   ],
   "source": [
    "distinct_variables(f_expression)"
   ]
  },
  {
   "cell_type": "code",
   "execution_count": 48,
   "metadata": {},
   "outputs": [
    {
     "data": {
      "text/plain": [
       "4.233600241796016"
      ]
     },
     "execution_count": 48,
     "metadata": {},
     "output_type": "execute_result"
    }
   ],
   "source": [
    "f_expression.evaluate(x = 3)"
   ]
  },
  {
   "cell_type": "code",
   "execution_count": 50,
   "metadata": {},
   "outputs": [
    {
     "data": {
      "text/latex": [
       "$$\\left( 3\\cdot 1\\cdot 2x ^ { 1 } + 1 \\right) \\operatorname{ sin } \\left( x \\right) + \\left( 3x ^ { 2 } + x \\right)\\cdot 1 \\operatorname{ cos } \\left( x \\right)$$"
      ],
      "text/plain": [
       "Sum(Product(Sum(Product(Number(3),Product(Number(1),Product(Number(2),Power(Variable(\"x\"),Number(1))))),Number(1)),Apply(Function(\"sin\"),Variable(\"x\"))),Product(Sum(Product(Number(3),Power(Variable(\"x\"),Number(2))),Variable(\"x\")),Product(Number(1),Apply(Function(\"cos\"),Variable(\"x\")))))"
      ]
     },
     "execution_count": 50,
     "metadata": {},
     "output_type": "execute_result"
    }
   ],
   "source": [
    "f_expression.derivative(var = x)"
   ]
  },
  {
   "cell_type": "code",
   "execution_count": 70,
   "metadata": {},
   "outputs": [],
   "source": [
    "import numpy as np\n",
    "import matplotlib.pyplot as plt\n",
    "def plot_function(f,tmin,tmax,tlabel=None,xlabel=None,axes=False, **kwargs):\n",
    "        ts = np.linspace(tmin,tmax,1000)\n",
    "        if tlabel:\n",
    "            plt.xlabel(tlabel,fontsize=18)\n",
    "        if xlabel:\n",
    "            plt.ylabel(xlabel,fontsize=18)\n",
    "        plt.plot(ts, [f(t) for t in ts], **kwargs)\n",
    "        if axes:\n",
    "            total_t = tmax-tmin\n",
    "            plt.plot([tmin-total_t/10,tmax+total_t/10],[0,0],c='k',linewidth=1)\n",
    "            plt.xlim(tmin-total_t/10,tmax+total_t/10)\n",
    "            xmin, xmax = plt.ylim()\n",
    "            plt.plot([0,0],[xmin,xmax],c='k',linewidth=1)\n",
    "            plt.ylim(xmin,xmax)"
   ]
  },
  {
   "cell_type": "code",
   "execution_count": 77,
   "metadata": {
    "collapsed": true
   },
   "outputs": [],
   "source": [
    "def p(x):\n",
    "    return x**5\n",
    "\n",
    "def p_prime(x):\n",
    "    return 5*x**4"
   ]
  },
  {
   "cell_type": "code",
   "execution_count": 82,
   "metadata": {
    "collapsed": true
   },
   "outputs": [],
   "source": [
    "p_expression = Power(Variable('x'), Number(5))"
   ]
  },
  {
   "cell_type": "code",
   "execution_count": 89,
   "metadata": {},
   "outputs": [],
   "source": [
    "p_prime_expression = p_expression.derivative(var = x)"
   ]
  },
  {
   "cell_type": "code",
   "execution_count": 101,
   "metadata": {},
   "outputs": [
    {
     "data": {
      "text/latex": [
       "$$1\\cdot 5\\cdot 1\\cdot 4x ^ { 3 }$$"
      ],
      "text/plain": [
       "Product(Number(1),Product(Number(5),Product(Number(1),Product(Number(4),Power(Variable(\"x\"),Number(3))))))"
      ]
     },
     "execution_count": 101,
     "metadata": {},
     "output_type": "execute_result"
    }
   ],
   "source": [
    "p_prime_expression.derivative(var = x)"
   ]
  },
  {
   "cell_type": "code",
   "execution_count": 106,
   "metadata": {},
   "outputs": [
    {
     "data": {
      "text/plain": [
       "3125"
      ]
     },
     "execution_count": 106,
     "metadata": {},
     "output_type": "execute_result"
    }
   ],
   "source": [
    "p_prime_expression.evaluate(x = 5)"
   ]
  },
  {
   "cell_type": "code",
   "execution_count": 111,
   "metadata": {},
   "outputs": [
    {
     "data": {
      "image/png": "[encoded data removed]",
      "text/plain": [
       "<Figure size 432x288 with 1 Axes>"
      ]
     },
     "metadata": {},
     "output_type": "display_data"
    }
   ],
   "source": [
    "plot_function(p_prime, 0, 1, color = 'red')\n",
    "plot_function(lambda x : p_prime_expression.evaluate(x = x), 0, 1, color = 'blue')\n",
    "plt.show()"
   ]
  },
  {
   "cell_type": "markdown",
   "metadata": {},
   "source": [
    "## Explain why the rules for taking deriatives mean the deriative is a linear transformation of this vector space"
   ]
  },
  {
   "cell_type": "markdown",
   "metadata": {},
   "source": [
    "d(f(x) + g(x)) = d(f(x)) + d(g(x))\n",
    "cd(f(x)) = d(cf(x))"
   ]
  },
  {
   "cell_type": "markdown",
   "metadata": {},
   "source": [
    "## Find a formula for the deriative of a a quotient f(x) / g(x) "
   ]
  },
  {
   "cell_type": "markdown",
   "metadata": {},
   "source": [
    "f'(x)(g(x)^-1) + -f(x)((g(x))^-2)*g'(x)"
   ]
  },
  {
   "cell_type": "markdown",
   "metadata": {},
   "source": [
    "## What is the deriative of sin(x) * cos(x) * ln(x)"
   ]
  },
  {
   "cell_type": "markdown",
   "metadata": {},
   "source": [
    "cos(x) * cos(x) * ln(x) - sin(x) * sin(x) * ln(x) + sin(x) * cos(x) / x"
   ]
  },
  {
   "cell_type": "code",
   "execution_count": 112,
   "metadata": {
    "collapsed": true
   },
   "outputs": [],
   "source": [
    "cos = Function('cos')\n",
    "ln = Function('ln')\n",
    "sin = Function('sin')\n",
    "X = Variable('x')\n",
    "\n",
    "f_expression = Product(Apply(sin, X), Product(Apply(cos, X), Apply(ln, X)))"
   ]
  },
  {
   "cell_type": "code",
   "execution_count": 113,
   "metadata": {},
   "outputs": [
    {
     "data": {
      "text/latex": [
       "$$ \\operatorname{ sin } \\left( x \\right) \\operatorname{ cos } \\left( x \\right) \\operatorname{ ln } \\left( x \\right)$$"
      ],
      "text/plain": [
       "Product(Apply(Function(\"sin\"),Variable(\"x\")),Product(Apply(Function(\"cos\"),Variable(\"x\")),Apply(Function(\"ln\"),Variable(\"x\"))))"
      ]
     },
     "execution_count": 113,
     "metadata": {},
     "output_type": "execute_result"
    }
   ],
   "source": [
    "f_expression"
   ]
  },
  {
   "cell_type": "code",
   "execution_count": 115,
   "metadata": {},
   "outputs": [
    {
     "data": {
      "text/latex": [
       "$$1 \\operatorname{ cos } \\left( x \\right) \\operatorname{ cos } \\left( x \\right) \\operatorname{ ln } \\left( x \\right) +  \\operatorname{ sin } \\left( x \\right)\\left( 1\\cdot -1 \\operatorname{ sin } \\left( x \\right) \\operatorname{ ln } \\left( x \\right) +  \\operatorname{ cos } \\left( x \\right)\\cdot 1\\frac{ 1 }{ x } \\right)$$"
      ],
      "text/plain": [
       "Sum(Product(Product(Number(1),Apply(Function(\"cos\"),Variable(\"x\"))),Product(Apply(Function(\"cos\"),Variable(\"x\")),Apply(Function(\"ln\"),Variable(\"x\")))),Product(Apply(Function(\"sin\"),Variable(\"x\")),Sum(Product(Product(Number(1),Product(Number(-1),Apply(Function(\"sin\"),Variable(\"x\")))),Apply(Function(\"ln\"),Variable(\"x\"))),Product(Apply(Function(\"cos\"),Variable(\"x\")),Product(Number(1),Quotient(Number(1),Variable(\"x\")))))))"
      ]
     },
     "execution_count": 115,
     "metadata": {},
     "output_type": "execute_result"
    }
   ],
   "source": [
    "f_expression.derivative(var = x)"
   ]
  },
  {
   "cell_type": "code",
   "execution_count": null,
   "metadata": {
    "collapsed": true
   },
   "outputs": [],
   "source": []
  }
 ],
 "metadata": {
  "kernelspec": {
   "display_name": "Python 3",
   "language": "python",
   "name": "python3"
  },
  "language_info": {
   "codemirror_mode": {
    "name": "ipython",
    "version": 3
   },
   "file_extension": ".py",
   "mimetype": "text/x-python",
   "name": "python",
   "nbconvert_exporter": "python",
   "pygments_lexer": "ipython3",
   "version": "3.6.9"
  }
 },
 "nbformat": 4,
 "nbformat_minor": 2
}
