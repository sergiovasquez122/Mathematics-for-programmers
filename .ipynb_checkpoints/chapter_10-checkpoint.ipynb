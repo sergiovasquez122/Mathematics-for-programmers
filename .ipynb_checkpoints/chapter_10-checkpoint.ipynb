{
 "cells": [
  {
   "cell_type": "code",
   "execution_count": 3,
   "metadata": {},
   "outputs": [],
   "source": [
    "from math import sin\n",
    "\n",
    "def f(x):\n",
    "    return (3 * x ** 2 + x) * sin(x)"
   ]
  },
  {
   "cell_type": "code",
   "execution_count": 4,
   "metadata": {
    "collapsed": true
   },
   "outputs": [],
   "source": [
    "import inspect \n",
    "def contains_sin(f):\n",
    "    source = inspect.getsource(f)\n",
    "    return 'sin' in source"
   ]
  },
  {
   "cell_type": "code",
   "execution_count": 5,
   "metadata": {},
   "outputs": [
    {
     "data": {
      "text/plain": [
       "True"
      ]
     },
     "execution_count": 5,
     "metadata": {},
     "output_type": "execute_result"
    }
   ],
   "source": [
    "contains_sin(f)"
   ]
  },
  {
   "cell_type": "code",
   "execution_count": 6,
   "metadata": {
    "collapsed": true
   },
   "outputs": [],
   "source": [
    "def q(x):\n",
    "    return 3 * x + 5"
   ]
  },
  {
   "cell_type": "code",
   "execution_count": 7,
   "metadata": {},
   "outputs": [
    {
     "data": {
      "text/plain": [
       "False"
      ]
     },
     "execution_count": 7,
     "metadata": {},
     "output_type": "execute_result"
    }
   ],
   "source": [
    "contains_sin(q)"
   ]
  },
  {
   "cell_type": "code",
   "execution_count": 11,
   "metadata": {},
   "outputs": [],
   "source": [
    "class Power():\n",
    "    def __init__(self, base, exponent):\n",
    "        self.base = base\n",
    "        self.exponent = exponent\n",
    "        \n",
    "class Number():\n",
    "    def __init__(self, number):\n",
    "        self.number = number\n",
    "\n",
    "class Variable():\n",
    "    def __init__(self, symbol):\n",
    "        self.symbol = symbol\n",
    "\n",
    "class Product():\n",
    "    def __init__(self, exp1, exp2):\n",
    "        self.exp1 = exp1\n",
    "        self.exp2 = exp2\n",
    "        \n",
    "class Sum():\n",
    "    def __init__(self, *exps):\n",
    "        self.exps = exps\n",
    "        \n",
    "class Function():\n",
    "    def __init__(self, name):\n",
    "        self.name = name\n",
    "        \n",
    "class Apply():\n",
    "    def __init__(self, function, argument):\n",
    "        self.function = function\n",
    "        self.argument = argument\n",
    "\n"
   ]
  },
  {
   "cell_type": "code",
   "execution_count": 12,
   "metadata": {
    "collapsed": true
   },
   "outputs": [],
   "source": [
    "f_expression = Product(\n",
    "Sum(\n",
    "Product(\n",
    "Number(3),\n",
    "Power(\n",
    "Variable(\"x\"),\n",
    "Number(2))),\n",
    "Variable(\"x\")),\n",
    "Apply(\n",
    "Function(\"sin\"),\n",
    "Variable(\"x\")))"
   ]
  },
  {
   "cell_type": "code",
   "execution_count": 15,
   "metadata": {},
   "outputs": [
    {
     "data": {
      "text/plain": [
       "<__main__.Apply at 0x7f92bc272828>"
      ]
     },
     "execution_count": 15,
     "metadata": {},
     "output_type": "execute_result"
    }
   ],
   "source": [
    "Apply(Function('cos'), Sum(Power(Variable('x'), Number(3)), Number(-5)))"
   ]
  },
  {
   "cell_type": "code",
   "execution_count": 16,
   "metadata": {},
   "outputs": [
    {
     "data": {
      "text/plain": [
       "<__main__.Apply at 0x7f92bc369f28>"
      ]
     },
     "execution_count": 16,
     "metadata": {},
     "output_type": "execute_result"
    }
   ],
   "source": [
    "Apply(Function('ln'), Power(Variable('y'), Variable('z')))"
   ]
  },
  {
   "cell_type": "code",
   "execution_count": 17,
   "metadata": {
    "collapsed": true
   },
   "outputs": [],
   "source": [
    "from math import log\n",
    "def f(y, z):\n",
    "    return log(y ** z)"
   ]
  },
  {
   "cell_type": "code",
   "execution_count": 18,
   "metadata": {},
   "outputs": [
    {
     "data": {
      "text/plain": [
       "<__main__.Product at 0x7f92bc2062b0>"
      ]
     },
     "execution_count": 18,
     "metadata": {},
     "output_type": "execute_result"
    }
   ],
   "source": [
    "Product(Number(3), Sum(Variable('y'), Variable('z')))"
   ]
  },
  {
   "cell_type": "code",
   "execution_count": 20,
   "metadata": {},
   "outputs": [],
   "source": [
    "def f(y, z):\n",
    "    return 3 * (y + z)"
   ]
  },
  {
   "cell_type": "code",
   "execution_count": 24,
   "metadata": {
    "collapsed": true
   },
   "outputs": [],
   "source": [
    "class Quotient():\n",
    "    def __init__(self, numerator, denominator):\n",
    "        self.numerator = numerator\n",
    "        self.denominator = denominator"
   ]
  },
  {
   "cell_type": "code",
   "execution_count": 25,
   "metadata": {},
   "outputs": [
    {
     "data": {
      "text/plain": [
       "<__main__.Quotient at 0x7f92bc3f5400>"
      ]
     },
     "execution_count": 25,
     "metadata": {},
     "output_type": "execute_result"
    }
   ],
   "source": [
    "Quotient(Sum(Variable('a'), Variable('b')), Number(2))"
   ]
  },
  {
   "cell_type": "code",
   "execution_count": 26,
   "metadata": {
    "collapsed": true
   },
   "outputs": [],
   "source": [
    "class Difference():\n",
    "    def __init__(self, exp1, exp2):\n",
    "        self.exp1 = exp1\n",
    "        self.exp2 = exp2"
   ]
  },
  {
   "cell_type": "code",
   "execution_count": 27,
   "metadata": {},
   "outputs": [
    {
     "data": {
      "text/plain": [
       "<__main__.Difference at 0x7f92bc20a358>"
      ]
     },
     "execution_count": 27,
     "metadata": {},
     "output_type": "execute_result"
    }
   ],
   "source": [
    "Difference(Power(Variable('b'), Number(2)), Product(Number(4),Product(Variable('a'), Variable('c'))))"
   ]
  },
  {
   "cell_type": "code",
   "execution_count": 28,
   "metadata": {
    "collapsed": true
   },
   "outputs": [],
   "source": [
    "class Negative():\n",
    "    def __init__(self, exp):\n",
    "        self.exp = exp"
   ]
  },
  {
   "cell_type": "code",
   "execution_count": 29,
   "metadata": {},
   "outputs": [
    {
     "data": {
      "text/plain": [
       "<__main__.Negative at 0x7f92bc3d9940>"
      ]
     },
     "execution_count": 29,
     "metadata": {},
     "output_type": "execute_result"
    }
   ],
   "source": [
    "Negative(Sum(Power(Variable('x'), Number(2)),Variable('y')))"
   ]
  },
  {
   "cell_type": "code",
   "execution_count": null,
   "metadata": {
    "collapsed": true
   },
   "outputs": [],
   "source": []
  }
 ],
 "metadata": {
  "kernelspec": {
   "display_name": "Python 3",
   "language": "python",
   "name": "python3"
  },
  "language_info": {
   "codemirror_mode": {
    "name": "ipython",
    "version": 3
   },
   "file_extension": ".py",
   "mimetype": "text/x-python",
   "name": "python",
   "nbconvert_exporter": "python",
   "pygments_lexer": "ipython3",
   "version": "3.6.9"
  }
 },
 "nbformat": 4,
 "nbformat_minor": 2
}
