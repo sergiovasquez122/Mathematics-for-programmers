{
 "cells": [
  {
   "cell_type": "code",
   "execution_count": 8,
   "metadata": {
    "collapsed": true
   },
   "outputs": [],
   "source": [
    "import matplotlib.pyplot as plt\n",
    "from mpl_toolkits.mplot3d import Axes3D\n",
    "from matplotlib import cm\n",
    "import numpy as np\n",
    "from math import sin, cos, pi\n",
    "%matplotlib inline\n",
    "def plot_function(f,xmin,xmax,**kwargs):\n",
    "    ts = np.linspace(xmin,xmax,1000)\n",
    "    plt.plot(ts,[f(t) for t in ts],**kwargs)"
   ]
  },
  {
   "cell_type": "code",
   "execution_count": 13,
   "metadata": {
    "collapsed": true
   },
   "outputs": [],
   "source": [
    "def trajectory(theta,speed=20,height=0,dt=0.01,g=-9.81):\n",
    "    vx = speed * cos(pi * theta / 180)\n",
    "    vz = speed * sin(pi * theta / 180)\n",
    "    t,x,z = 0, 0, height\n",
    "    ts, xs, zs = [t], [x], [z]\n",
    "    while z >= 0:\n",
    "        t += dt\n",
    "        vz += g * dt\n",
    "        x += vx * dt\n",
    "        z += vz * dt\n",
    "        ts.append(t)\n",
    "        xs.append(x)\n",
    "        zs.append(z)\n",
    "    return ts, xs, zs"
   ]
  },
  {
   "cell_type": "code",
   "execution_count": 14,
   "metadata": {
    "collapsed": true
   },
   "outputs": [],
   "source": [
    "def plot_trajectories(*trajs,show_seconds=False):\n",
    "    for traj in trajs:\n",
    "        xs, zs = traj[1], traj[2]\n",
    "        plt.plot(xs,zs)\n",
    "        if show_seconds:\n",
    "            second_indices = []\n",
    "            second = 0\n",
    "            for i,t in enumerate(traj[0]):\n",
    "                if t>= second:\n",
    "                    second_indices.append(i)\n",
    "                    second += 1\n",
    "            plt.scatter([xs[i] for i in second_indices], [zs[i] for i in second_indices])\n",
    "    xl = plt.xlim()\n",
    "    plt.plot(plt.xlim(),[0,0],c='k')\n",
    "    plt.xlim(*xl)\n",
    "    \n",
    "    width = 7\n",
    "    coords_height = (plt.ylim()[1] - plt.ylim()[0])\n",
    "    coords_width = (plt.xlim()[1] - plt.xlim()[0])\n",
    "    plt.gcf().set_size_inches(width , width * coords_height / coords_width)"
   ]
  },
  {
   "cell_type": "code",
   "execution_count": 27,
   "metadata": {},
   "outputs": [
    {
     "data": {
      "image/png": "[encoded data removed]",
      "text/plain": [
       "<Figure size 504x252.931 with 1 Axes>"
      ]
     },
     "metadata": {},
     "output_type": "display_data"
    }
   ],
   "source": [
    "plot_trajectories(trajectory(15), trajectory(30), trajectory(45), trajectory(60), trajectory(90))"
   ]
  },
  {
   "cell_type": "code",
   "execution_count": 29,
   "metadata": {
    "collapsed": true
   },
   "outputs": [],
   "source": [
    "def landing_position(traj):\n",
    "    return traj[1][-1]\n",
    "\n",
    "def hang_time(traj):\n",
    "    return traj[0][-1]\n",
    "\n",
    "def max_height(traj):\n",
    "    return max(traj[2])"
   ]
  },
  {
   "cell_type": "code",
   "execution_count": 31,
   "metadata": {},
   "outputs": [
    {
     "data": {
      "text/plain": [
       "<matplotlib.collections.PathCollection at 0x7fdb045439e8>"
      ]
     },
     "execution_count": 31,
     "metadata": {},
     "output_type": "execute_result"
    },
    {
     "data": {
      "image/png": "[encoded data removed]",
      "text/plain": [
       "<Figure size 432x288 with 1 Axes>"
      ]
     },
     "metadata": {},
     "output_type": "display_data"
    }
   ],
   "source": [
    "import matplotlib.pyplot as plt\n",
    "angles = range(0, 90, 5)\n",
    "landing_positions = [landing_position(trajectory(theta)) for theta in angles]\n",
    "plt.scatter(angles, landing_positions)"
   ]
  },
  {
   "cell_type": "code",
   "execution_count": 33,
   "metadata": {},
   "outputs": [
    {
     "data": {
      "text/plain": [
       "40.72935059634507"
      ]
     },
     "execution_count": 33,
     "metadata": {},
     "output_type": "execute_result"
    }
   ],
   "source": [
    "max(landing_positions)"
   ]
  },
  {
   "cell_type": "code",
   "execution_count": 35,
   "metadata": {},
   "outputs": [
    {
     "data": {
      "text/plain": [
       "40.10994684444007"
      ]
     },
     "execution_count": 35,
     "metadata": {},
     "output_type": "execute_result"
    }
   ],
   "source": [
    "landing_position(trajectory(theta = 50))"
   ]
  },
  {
   "cell_type": "code",
   "execution_count": 36,
   "metadata": {},
   "outputs": [
    {
     "data": {
      "text/plain": [
       "-40.10994684444007"
      ]
     },
     "execution_count": 36,
     "metadata": {},
     "output_type": "execute_result"
    }
   ],
   "source": [
    "landing_position(trajectory(theta = 130))"
   ]
  },
  {
   "cell_type": "code",
   "execution_count": 45,
   "metadata": {},
   "outputs": [
    {
     "data": {
      "text/plain": [
       "Text(0, 0.5, 'hang time')"
      ]
     },
     "execution_count": 45,
     "metadata": {},
     "output_type": "execute_result"
    },
    {
     "data": {
      "image/png": "[encoded data removed]",
      "text/plain": [
       "<Figure size 432x288 with 1 Axes>"
      ]
     },
     "metadata": {},
     "output_type": "display_data"
    }
   ],
   "source": [
    "test_angles = range(0, 181, 5)\n",
    "hang_times = [hang_time(trajectory(test_angle)) for test_angle in test_angles]\n",
    "plt.scatter(test_angles, hang_times)\n",
    "plt.xlabel('test angles')\n",
    "plt.ylabel('hang time')"
   ]
  },
  {
   "cell_type": "code",
   "execution_count": 49,
   "metadata": {},
   "outputs": [
    {
     "name": "stdout",
     "output_type": "stream",
     "text": [
      "90\n",
      "4.069999999999958\n"
     ]
    }
   ],
   "source": [
    "import numpy as np \n",
    "index = np.argmax(hang_times)\n",
    "print(test_angles[index])\n",
    "print(hang_times[index])"
   ]
  },
  {
   "cell_type": "code",
   "execution_count": null,
   "metadata": {
    "collapsed": true
   },
   "outputs": [],
   "source": []
  }
 ],
 "metadata": {
  "kernelspec": {
   "display_name": "Python 3",
   "language": "python",
   "name": "python3"
  },
  "language_info": {
   "codemirror_mode": {
    "name": "ipython",
    "version": 3
   },
   "file_extension": ".py",
   "mimetype": "text/x-python",
   "name": "python",
   "nbconvert_exporter": "python",
   "pygments_lexer": "ipython3",
   "version": "3.6.9"
  }
 },
 "nbformat": 4,
 "nbformat_minor": 2
}
