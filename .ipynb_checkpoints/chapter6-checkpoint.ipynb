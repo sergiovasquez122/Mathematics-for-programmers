{
 "cells": [
  {
   "cell_type": "code",
   "execution_count": 1,
   "metadata": {
    "collapsed": true
   },
   "outputs": [],
   "source": [
    "class Vec2():\n",
    "    def __init__(self, x, y):\n",
    "        self.x = x\n",
    "        self.y = y\n",
    "    \n",
    "    def add(self, v2):\n",
    "        return Vec2(self.x + v2.x, self.y + v2.y)\n",
    "    \n",
    "    def scale(self, alpha):\n",
    "        return Vec2(self.x * alpha, self.y * alpha)\n",
    "    \n",
    "    def __eq__(self, other):\n",
    "        return self.x == other.x and self.y == other.y\n",
    "    \n",
    "    def __add__(self, v2):\n",
    "        return self.add(v2)\n",
    "    \n",
    "    def __mul__(self, alpha):\n",
    "        return scale(self, alpha)\n",
    "    \n",
    "    def __rmul__(self, alpha):\n",
    "        return scale(self, alpha)\n",
    "    \n",
    "    def __repr__(self):\n",
    "        return \"Vec2({}, {})\".format(self.x, self.y)"
   ]
  },
  {
   "cell_type": "code",
   "execution_count": 2,
   "metadata": {},
   "outputs": [
    {
     "data": {
      "text/plain": [
       "Vec2(2, 2)"
      ]
     },
     "execution_count": 2,
     "metadata": {},
     "output_type": "execute_result"
    }
   ],
   "source": [
    "Vec2(2, 2)"
   ]
  },
  {
   "cell_type": "code",
   "execution_count": 3,
   "metadata": {},
   "outputs": [
    {
     "data": {
      "text/plain": [
       "Vec2(5, 5)"
      ]
     },
     "execution_count": 3,
     "metadata": {},
     "output_type": "execute_result"
    }
   ],
   "source": [
    "Vec2(2, 2) + Vec2(3, 3)"
   ]
  },
  {
   "cell_type": "code",
   "execution_count": 4,
   "metadata": {
    "collapsed": true
   },
   "outputs": [],
   "source": [
    "class Vec3():\n",
    "    def __init__(self, x, y, z):\n",
    "        self.x = x\n",
    "        self.y = y\n",
    "        self.z = z\n",
    "        \n",
    "    def add(self, other):\n",
    "        return Vec3(self.x + other.x, self.y + other.y, self.z + other.z)\n",
    "    \n",
    "    def scale(self, alpha):\n",
    "        return Vec3(self.x * alpha, self.y * alpha, self.z * alpha)\n",
    "    \n",
    "    def __eq__(self, other):\n",
    "        return self.x == other.x and self.y == other.y and self.z == other.z\n",
    "    \n",
    "    def __add__(self, other):\n",
    "        return self.add(other)\n",
    "    \n",
    "    def __mul__(self, alpha):\n",
    "        return self.scale(alpha)\n",
    "    \n",
    "    def __rmul__(self, alpha):\n",
    "        return self.scale(alpha)\n",
    "    \n",
    "    def __repr__(self):\n",
    "        return \"({},{},{})\".format(self.x, self.y, self.z)"
   ]
  },
  {
   "cell_type": "code",
   "execution_count": 5,
   "metadata": {},
   "outputs": [
    {
     "data": {
      "text/plain": [
       "(2,3,5)"
      ]
     },
     "execution_count": 5,
     "metadata": {},
     "output_type": "execute_result"
    }
   ],
   "source": [
    "Vec3(2, 3, 5)"
   ]
  },
  {
   "cell_type": "code",
   "execution_count": 26,
   "metadata": {
    "collapsed": true
   },
   "outputs": [],
   "source": [
    "from abc import ABCMeta, abstractmethod, abstractproperty\n",
    "\n",
    "class Vector(metaclass = ABCMeta):\n",
    "    @abstractmethod\n",
    "    def scale(self, alpha):\n",
    "        pass\n",
    "    \n",
    "    @classmethod\n",
    "    @abstractproperty\n",
    "    def zero():\n",
    "        pass\n",
    "    \n",
    "    @abstractmethod\n",
    "    def add(self, other):\n",
    "        pass\n",
    "    \n",
    "    def neg(self):\n",
    "        return self.scale(-1)\n",
    "    \n",
    "    def subtract(self, other):\n",
    "        return self.add(-1 * other)\n",
    "    \n",
    "    def __mul__(self, alpha):\n",
    "        return self.scale(alpha)\n",
    "    \n",
    "    def __rmul__(self, alpha):\n",
    "        return self.scale(alpha)\n",
    "    \n",
    "    def __add__(self, other):\n",
    "        return self.add(other)\n",
    "    \n",
    "    def __sub__(self, other):\n",
    "        return self.subtract(other)\n",
    "    \n",
    "    "
   ]
  },
  {
   "cell_type": "code",
   "execution_count": 7,
   "metadata": {
    "collapsed": true
   },
   "outputs": [],
   "source": [
    "class Vec3(Vector):\n",
    "    def __init__(self, x, y, z):\n",
    "        self.x = x\n",
    "        self.y = y\n",
    "        self.z = z\n",
    "    def add(self, other):\n",
    "        return Vec3(self.x + other.x, self.y + other.y, self.z + other.z)\n",
    "    \n",
    "    def scale(self, alpha):\n",
    "        return Vec3(self.x * alpha, self.y * alpha, self.z * alpha)\n",
    "    \n",
    "    def __eq__(self, other):\n",
    "        return self.x == other.x and self.y == other.y and self.z == other.z\n",
    "    \n",
    "    def __neq__(self):\n",
    "        return self.scale(-1)\n",
    "    \n",
    "    def __repr__(self):\n",
    "        return '({}, {}, {})'.format(self.x, self.y, self.z)"
   ]
  },
  {
   "cell_type": "code",
   "execution_count": 8,
   "metadata": {
    "collapsed": true
   },
   "outputs": [],
   "source": [
    "from abc import abstractproperty\n",
    "from vectors import add, scale\n",
    "class CoordinateVector(Vector):\n",
    "    @abstractproperty\n",
    "    def dimension(self):\n",
    "        pass\n",
    "    def __init__(self, *coordinates):\n",
    "        self.coordinates = tuple(x for x in coordinates)\n",
    "        \n",
    "    def add(self, other):\n",
    "        return self.__class__(*add(self.coordinates, other.coordinates))\n",
    "    \n",
    "    def scale(self, alpha):\n",
    "        return self.__class__(*scale(alpha, self.coordinates))\n",
    "    \n",
    "    def __repr__(self):\n",
    "        return \"{}{}\".format(self.__class__.__qualname__, self.coordinates)"
   ]
  },
  {
   "cell_type": "code",
   "execution_count": 11,
   "metadata": {},
   "outputs": [],
   "source": [
    "class Vec3(Vector):\n",
    "    def __init__(self, x, y, z):\n",
    "        self.x = x\n",
    "        self.y = y\n",
    "        self.z = z\n",
    "    \n",
    "    def add(self, other):\n",
    "        return Vec3(self.x + other.x, self.y + other.y, self.z + other.z)\n",
    "    \n",
    "    def scale(self, alpha):\n",
    "        return Vec3(alpha * self.x, alpha * self.y, alpha * self.z)\n",
    "    \n",
    "    def __eq__(self, other):\n",
    "        return self.x == other.x and self.y == other.y and self.z == other.z\n",
    "    \n",
    "    def __repr__(self):\n",
    "        return \"({}, {}, {})\".format(self.x, self.y, self.z)"
   ]
  },
  {
   "cell_type": "code",
   "execution_count": 28,
   "metadata": {
    "collapsed": true
   },
   "outputs": [],
   "source": [
    "from abc import abstractproperty\n",
    "from vectors import add, scale\n",
    "\n",
    "class CoordinateVector(Vector):\n",
    "    @abstractproperty\n",
    "    def dimension(self):\n",
    "        pass\n",
    "    def __init__(self, *coordinates):\n",
    "        self.coordinates = tuple(x for x in coordinates)\n",
    "        \n",
    "    def add(self, other):\n",
    "        return self.__class__(*add(self.coordinates, other.coordinates))\n",
    "    \n",
    "    def scale(self, alpha):\n",
    "        return self.__class__(*scale(alpha, self.coordinates))\n",
    "    \n",
    "    def __repr__(self):\n",
    "        return \"{}{}\".format(self.__class__.__qualname__, self.coordinates)\n",
    "    \n",
    "    def __truediv__(self, alpha):\n",
    "        return self.scale(1 / alpha)"
   ]
  },
  {
   "cell_type": "code",
   "execution_count": 29,
   "metadata": {
    "collapsed": true
   },
   "outputs": [],
   "source": [
    "class Vec6(CoordinateVector):\n",
    "    def dimension(self):\n",
    "        return 6\n",
    "    \n",
    "    def zero(self):\n",
    "        return Vec6(0, 0, 0, 0, 0, 0)"
   ]
  },
  {
   "cell_type": "code",
   "execution_count": 30,
   "metadata": {},
   "outputs": [
    {
     "data": {
      "text/plain": [
       "Vec6(2, 4, 6, 8, 10, 12)"
      ]
     },
     "execution_count": 30,
     "metadata": {},
     "output_type": "execute_result"
    }
   ],
   "source": [
    "Vec6(1, 2, 3, 4, 5, 6) + Vec6(1, 2, 3, 4, 5, 6)"
   ]
  },
  {
   "cell_type": "code",
   "execution_count": 33,
   "metadata": {},
   "outputs": [],
   "source": [
    "class Vec1(Vector):\n",
    "    def __init__(self, x):\n",
    "        self.x = x\n",
    "    def add(self, other):\n",
    "        return Vec1(self.x + other.x)\n",
    "    def scale(self, alpha):\n",
    "        return Vec1(alpha * self.x)\n",
    "    @classmethod\n",
    "    def zero(cls):\n",
    "        return Vec1(0)\n",
    "    def __eq__(self, other):\n",
    "        return self.x == other.x\n",
    "    def __repr__(self):\n",
    "        return \"({})\".format(self.x)"
   ]
  },
  {
   "cell_type": "code",
   "execution_count": 34,
   "metadata": {},
   "outputs": [
    {
     "data": {
      "text/plain": [
       "(1)"
      ]
     },
     "execution_count": 34,
     "metadata": {},
     "output_type": "execute_result"
    }
   ],
   "source": [
    "Vec1(1)"
   ]
  },
  {
   "cell_type": "code",
   "execution_count": 35,
   "metadata": {
    "collapsed": true
   },
   "outputs": [],
   "source": [
    "class CarForSale():\n",
    "    def __init__(self, model_year, mileage, price, posted_datetime,\n",
    "                model, source, location, description):\n",
    "        self.model_year = model_year\n",
    "        self.mileage = mileage\n",
    "        self.price = price\n",
    "        self.posted_datetime = posted_datetime\n",
    "        self.model = model \n",
    "        self.source = source\n",
    "        self.location = location\n",
    "        self.description = description"
   ]
  },
  {
   "cell_type": "code",
   "execution_count": 45,
   "metadata": {},
   "outputs": [],
   "source": [
    "from vector_drawing import *\n",
    "from math import *\n",
    "\n",
    "def f(x):\n",
    "    return 0.5 * x + 3\n",
    "def g(x):\n",
    "    return sin(x)\n",
    "    \n",
    "def plot(fs, xmin, xmax):\n",
    "    xs = np.linspace(xmin, xmax, 100)\n",
    "    fig, ax = plt.subplots()\n",
    "    ax.axhline(y = 0, color = 'k')\n",
    "    ax.axvline(x = 0, color = 'k')\n",
    "    for f in fs:\n",
    "        ys = [f(x) for x in xs]\n",
    "        plt.plot(xs, ys)"
   ]
  },
  {
   "cell_type": "code",
   "execution_count": 46,
   "metadata": {},
   "outputs": [
    {
     "data": {
      "image/png": "[encoded data removed]",
      "text/plain": [
       "<Figure size 432x288 with 1 Axes>"
      ]
     },
     "metadata": {},
     "output_type": "display_data"
    }
   ],
   "source": [
    "plot([f, g], -10, 10)\n",
    "plt.show()"
   ]
  },
  {
   "cell_type": "code",
   "execution_count": null,
   "metadata": {
    "collapsed": true
   },
   "outputs": [],
   "source": []
  }
 ],
 "metadata": {
  "kernelspec": {
   "display_name": "Python 3",
   "language": "python",
   "name": "python3"
  },
  "language_info": {
   "codemirror_mode": {
    "name": "ipython",
    "version": 3
   },
   "file_extension": ".py",
   "mimetype": "text/x-python",
   "name": "python",
   "nbconvert_exporter": "python",
   "pygments_lexer": "ipython3",
   "version": "3.6.9"
  }
 },
 "nbformat": 4,
 "nbformat_minor": 2
}
