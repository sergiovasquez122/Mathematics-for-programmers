{
 "cells": [
  {
   "cell_type": "code",
   "execution_count": 15,
   "metadata": {
    "collapsed": true
   },
   "outputs": [],
   "source": [
    "width, height = 400, 400\n",
    "def to_pixels(x, y):\n",
    "    return (width / 2 + width * x / 20, height / 2 - height * y / 20)\n",
    "\n",
    "class PolygonModel():\n",
    "    def __init__(self, points):\n",
    "        self.points = points\n",
    "        self.rotation_angle = 0\n",
    "        self.x = 0\n",
    "        self.y = 0\n",
    "        \n",
    "    def transform(self):\n",
    "        rotated = [rotate2d(self.rotation_angle, v) for v in self.points]\n",
    "        translation = [add((self.x, self.y), v) for v in self.points]\n",
    "        return translation\n"
   ]
  },
  {
   "cell_type": "code",
   "execution_count": 3,
   "metadata": {
    "collapsed": true
   },
   "outputs": [],
   "source": [
    "class Ship(Polygon):\n",
    "    def __init__(self):\n",
    "        super().__init__([(0.5, 0), (-0.25, 0.25), (-0.25, -0.25)])\n",
    "        \n"
   ]
  },
  {
   "cell_type": "code",
   "execution_count": 11,
   "metadata": {},
   "outputs": [],
   "source": [
    "from random import *\n",
    "from vectors import *\n",
    "class Asteroid(PolygonModel):\n",
    "    def __init__(self):\n",
    "        sides = randint(5, 9)\n",
    "        vs = [to_cartesian((uniform(0.5, 1), 2 * pi * i / sides))\n",
    "             for i in range(0, sides)]\n",
    "        super().__init__(vs)"
   ]
  },
  {
   "cell_type": "code",
   "execution_count": 13,
   "metadata": {},
   "outputs": [],
   "source": [
    "ship = Ship()\n",
    "\n",
    "asteroid_count = 10\n",
    "asteroids = [Asteroid() for _ in range(asteroid_count)]\n",
    "\n",
    "for ast in asteroids:\n",
    "    ast.x = randint(-9, 9)\n",
    "    ast.y = randint(-9, 9)\n"
   ]
  },
  {
   "cell_type": "code",
   "execution_count": 16,
   "metadata": {},
   "outputs": [
    {
     "data": {
      "text/plain": [
       "array([2.66666667, 2.66666667])"
      ]
     },
     "execution_count": 16,
     "metadata": {},
     "output_type": "execute_result"
    }
   ],
   "source": [
    "import numpy as np\n",
    "matrix = np.array(((1, -1), (1, 2)))\n",
    "output = np.array((0, 8))\n",
    "np.linalg.solve(matrix, output)"
   ]
  },
  {
   "cell_type": "code",
   "execution_count": 17,
   "metadata": {
    "collapsed": true
   },
   "outputs": [],
   "source": [
    "def intersection(u1, u2, v1, v2):\n",
    "    a1, b1, c1 = standard_form(u1, u2)\n",
    "    a2, b2, c2 = standard_form(v1, v2)\n",
    "    m = np.array(((a1, b1), (a2, b2)))\n",
    "    c = np.array((c1, c2))\n",
    "    return np.linalg.solve(m, c)"
   ]
  },
  {
   "cell_type": "code",
   "execution_count": 18,
   "metadata": {
    "collapsed": true
   },
   "outputs": [],
   "source": [
    "def do_segments_intersect(s1, s2):\n",
    "    u1, u2 = s1\n",
    "    v1, v2 = s2\n",
    "    d1, d2 = distance(*s1), distance(*s2)\n",
    "    x, y = intersection(u1, u2, v1, v2)\n",
    "    return (distance(u1, (x, y)) <= d1 and\n",
    "            distance(u2, (x, y)) <= d1 and\n",
    "            distance(v1, (x, y)) <= d2 and\n",
    "            distance(v2, (x, y)) <= d2)"
   ]
  },
  {
   "cell_type": "markdown",
   "metadata": {},
   "source": [
    "## It's possible that u + t * v can be a line through the origin. In this case, what can you say about the vectors u and v?"
   ]
  },
  {
   "cell_type": "markdown",
   "metadata": {},
   "source": [
    "u is the zero vector"
   ]
  },
  {
   "cell_type": "markdown",
   "metadata": {},
   "source": [
    "## If v = (0, 0) do points of the form u + t * v represent a line?"
   ]
  },
  {
   "cell_type": "markdown",
   "metadata": {},
   "source": [
    "no it's just the zero vector"
   ]
  },
  {
   "cell_type": "code",
   "execution_count": null,
   "metadata": {
    "collapsed": true
   },
   "outputs": [],
   "source": []
  }
 ],
 "metadata": {
  "kernelspec": {
   "display_name": "Python 3",
   "language": "python",
   "name": "python3"
  },
  "language_info": {
   "codemirror_mode": {
    "name": "ipython",
    "version": 3
   },
   "file_extension": ".py",
   "mimetype": "text/x-python",
   "name": "python",
   "nbconvert_exporter": "python",
   "pygments_lexer": "ipython3",
   "version": "3.6.9"
  }
 },
 "nbformat": 4,
 "nbformat_minor": 2
}
