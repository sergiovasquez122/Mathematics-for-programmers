{
 "cells": [
  {
   "cell_type": "code",
   "execution_count": 5,
   "metadata": {},
   "outputs": [
    {
     "data": {
      "image/png": "[encoded data removed]",
      "text/plain": [
       "<Figure size 432x365.538 with 1 Axes>"
      ]
     },
     "metadata": {},
     "output_type": "display_data"
    }
   ],
   "source": [
    "from vector_drawing import *\n",
    "\n",
    "dino_vectors = [(-1, 5), (-2, 5), (-3, 4), (-4, 4),\n",
    "               (-5, 3), (-5, 2), (-5, 1), (-4, 0),\n",
    "               (-1, 0), (-1, -4), (0, -3), (1, -2),\n",
    "               (1, -4), (2, -3), (3, -1),(3, 1),\n",
    "               (5, 1), (1, 2), (6, 4),(-2, 1), (-2, 2)]\n",
    "draw(Points(*dino_vectors))"
   ]
  },
  {
   "cell_type": "markdown",
   "metadata": {},
   "source": [
    "# Exercise What are the x and y coordinate"
   ]
  },
  {
   "cell_type": "code",
   "execution_count": null,
   "metadata": {
    "collapsed": true
   },
   "outputs": [],
   "source": []
  }
 ],
 "metadata": {
  "kernelspec": {
   "display_name": "Python 3",
   "language": "python",
   "name": "python3"
  },
  "language_info": {
   "codemirror_mode": {
    "name": "ipython",
    "version": 3
   },
   "file_extension": ".py",
   "mimetype": "text/x-python",
   "name": "python",
   "nbconvert_exporter": "python",
   "pygments_lexer": "ipython3",
   "version": "3.6.9"
  }
 },
 "nbformat": 4,
 "nbformat_minor": 2
}
